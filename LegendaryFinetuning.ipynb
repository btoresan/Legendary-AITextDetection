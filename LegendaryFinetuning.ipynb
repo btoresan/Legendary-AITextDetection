{
  "cells": [
    {
      "cell_type": "markdown",
      "metadata": {
        "id": "6ZCJcLTDohk7"
      },
      "source": [
        "## Legendary - Finetuning DistilBERT usando datasets em português para detecção de Textos IA"
      ]
    },
    {
      "cell_type": "markdown",
      "metadata": {
        "id": "jM8_zaYNsQ0g"
      },
      "source": [
        "# Carregar Dataset"
      ]
    },
    {
      "cell_type": "markdown",
      "metadata": {
        "id": "ly0YzjOko5er"
      },
      "source": [
        "Instalar as bibliotecas do HugginFace para treinar o DistilBERT"
      ]
    },
    {
      "cell_type": "code",
      "execution_count": null,
      "metadata": {
        "id": "XfHTWsqhogg9"
      },
      "outputs": [],
      "source": [
        "pip install transformers datasets evaluate accelerate"
      ]
    },
    {
      "cell_type": "markdown",
      "metadata": {
        "id": "NOg859ztpMqB"
      },
      "source": [
        "Teste de carregamento de datasets do Huggiface"
      ]
    },
    {
      "cell_type": "code",
      "execution_count": null,
      "metadata": {
        "id": "onEDAMfDpRUa"
      },
      "outputs": [],
      "source": [
        "from datasets import load_dataset\n",
        "\n",
        "#load local ->\n",
        "#data_files = {\"train\" : \"train.json\", \"test\": \"test.json\"}\n",
        "#load_dataset(\"path/to/data_set\", data_files=data_files)\n",
        "imdb = load_dataset(\"imdb\")\n",
        "\n",
        "print(imdb)"
      ]
    },
    {
      "cell_type": "markdown",
      "metadata": {
        "id": "mnY_u1NosCsk"
      },
      "source": [
        "Observação visual do dataset"
      ]
    },
    {
      "cell_type": "code",
      "execution_count": null,
      "metadata": {
        "id": "r1b7ck0GqTQe"
      },
      "outputs": [],
      "source": [
        "imdb[\"test\"]"
      ]
    },
    {
      "cell_type": "markdown",
      "metadata": {
        "id": "7BYZ0yJKscVK"
      },
      "source": [
        "# Tokenizer"
      ]
    },
    {
      "cell_type": "markdown",
      "metadata": {
        "id": "iWRxWWIps0sx"
      },
      "source": [
        "tokeninza usando modelo pre treinado"
      ]
    },
    {
      "cell_type": "code",
      "execution_count": null,
      "metadata": {
        "id": "bFmDkPuosgzs"
      },
      "outputs": [],
      "source": [
        "from transformers import AutoTokenizer\n",
        "\n",
        "tokenizer = AutoTokenizer.from_pretrained(\"distilbert/distilbert-base-uncased\")"
      ]
    },
    {
      "cell_type": "markdown",
      "metadata": {
        "id": "AP97f1bHs3yR"
      },
      "source": [
        "trunca as sequencias para serem menores que o maximo do DistilBERT"
      ]
    },
    {
      "cell_type": "code",
      "execution_count": null,
      "metadata": {
        "id": "ofO_g7f_srgE"
      },
      "outputs": [],
      "source": [
        "def preprocess_function(examples):\n",
        "\n",
        "    return tokenizer(examples[\"text\"], truncation=True)"
      ]
    },
    {
      "cell_type": "markdown",
      "metadata": {
        "id": "rx378-6ss_HM"
      },
      "source": [
        "Aplica a funcao"
      ]
    },
    {
      "cell_type": "code",
      "execution_count": null,
      "metadata": {
        "id": "16Z-co0qst-c"
      },
      "outputs": [],
      "source": [
        "tokenized_imdb = imdb.map(preprocess_function, batched=True)"
      ]
    }
  ],
  "metadata": {
    "colab": {
      "provenance": []
    },
    "kernelspec": {
      "display_name": "Python 3",
      "name": "python3"
    },
    "language_info": {
      "name": "python"
    }
  },
  "nbformat": 4,
  "nbformat_minor": 0
}
