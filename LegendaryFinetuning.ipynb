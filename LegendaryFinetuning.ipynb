{
  "nbformat": 4,
  "nbformat_minor": 0,
  "metadata": {
    "colab": {
      "provenance": []
    },
    "kernelspec": {
      "name": "python3",
      "display_name": "Python 3"
    },
    "language_info": {
      "name": "python"
    }
  },
  "cells": [
    {
      "cell_type": "markdown",
      "source": [
        "## Legendary - Finetuning DistilBERT usando datasets em português para detecção de Textos IA"
      ],
      "metadata": {
        "id": "6ZCJcLTDohk7"
      }
    },
    {
      "cell_type": "markdown",
      "source": [
        "# Carregar Dataset"
      ],
      "metadata": {
        "id": "jM8_zaYNsQ0g"
      }
    },
    {
      "cell_type": "markdown",
      "source": [
        "Instalar as bibliotecas do HugginFace para treinar o DistilBERT"
      ],
      "metadata": {
        "id": "ly0YzjOko5er"
      }
    },
    {
      "cell_type": "code",
      "execution_count": null,
      "metadata": {
        "id": "XfHTWsqhogg9"
      },
      "outputs": [],
      "source": [
        "pip install transformers datasets evaluate accelerate"
      ]
    },
    {
      "cell_type": "markdown",
      "source": [
        "Teste de carregamento de datasets do Huggiface"
      ],
      "metadata": {
        "id": "NOg859ztpMqB"
      }
    },
    {
      "cell_type": "code",
      "source": [
        "from datasets import load_dataset\n",
        "\n",
        "#load local ->\n",
        "#data_files = {\"train\" : \"train.json\", \"test\": \"test.json\"}\n",
        "#load_dataset(\"path/to/data_set\", data_files=data_files)\n",
        "imdb = load_dataset(\"imdb\")\n",
        "\n",
        "print(imdb)"
      ],
      "metadata": {
        "id": "onEDAMfDpRUa"
      },
      "execution_count": null,
      "outputs": []
    },
    {
      "cell_type": "markdown",
      "source": [
        "Observação visual do dataset"
      ],
      "metadata": {
        "id": "mnY_u1NosCsk"
      }
    },
    {
      "cell_type": "code",
      "source": [
        "imdb[\"test\"]"
      ],
      "metadata": {
        "id": "r1b7ck0GqTQe"
      },
      "execution_count": null,
      "outputs": []
    },
    {
      "cell_type": "markdown",
      "source": [
        "# Tokenizer"
      ],
      "metadata": {
        "id": "7BYZ0yJKscVK"
      }
    },
    {
      "cell_type": "markdown",
      "source": [
        "tokeninza usando modelo pre treinado"
      ],
      "metadata": {
        "id": "iWRxWWIps0sx"
      }
    },
    {
      "cell_type": "code",
      "source": [
        "from transformers import AutoTokenizer\n",
        "\n",
        "tokenizer = AutoTokenizer.from_pretrained(\"distilbert/distilbert-base-uncased\")"
      ],
      "metadata": {
        "id": "bFmDkPuosgzs"
      },
      "execution_count": null,
      "outputs": []
    },
    {
      "cell_type": "markdown",
      "source": [
        "trunca as sequencias para serem menores que o maximo do DistilBERT"
      ],
      "metadata": {
        "id": "AP97f1bHs3yR"
      }
    },
    {
      "cell_type": "code",
      "source": [
        "def preprocess_function(examples):\n",
        "\n",
        "    return tokenizer(examples[\"text\"], truncation=True)"
      ],
      "metadata": {
        "id": "ofO_g7f_srgE"
      },
      "execution_count": null,
      "outputs": []
    },
    {
      "cell_type": "markdown",
      "source": [
        "Aplica a funcao"
      ],
      "metadata": {
        "id": "rx378-6ss_HM"
      }
    },
    {
      "cell_type": "code",
      "source": [
        "tokenized_imdb = imdb.map(preprocess_function, batched=True)"
      ],
      "metadata": {
        "id": "16Z-co0qst-c"
      },
      "execution_count": null,
      "outputs": []
    }
  ]
}